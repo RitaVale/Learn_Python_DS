{
 "cells": [
  {
   "cell_type": "markdown",
   "metadata": {},
   "source": [
    "# Pandas Exercises"
   ]
  },
  {
   "cell_type": "markdown",
   "metadata": {},
   "source": [
    "Check if you have pandas installed by importing the library as below. If it throws an error, please run `pip install pandas` on a code cell to install it.\n",
    "\n",
    "Note: The solutions are just suggestions on how you can solve each exercise. In Pandas, you can answer the same question in different ways."
   ]
  },
  {
   "cell_type": "code",
   "execution_count": 1,
   "metadata": {},
   "outputs": [],
   "source": [
    "import pandas as pd"
   ]
  },
  {
   "cell_type": "markdown",
   "metadata": {},
   "source": [
    "## Exercise 1. Baby Names <span style=\"font-size:10px\">[Source](https://www.practiceprobs.com/problemsets/python-pandas/series/baby-names/)</span>\n",
    "\n",
    "You and your spouse decided to let the internet name your next child. You’ve asked the great people of the web to submit their favourite names, and you’ve compiled their submissions into a Series called `babynames`.\n",
    "\n",
    "Determine how many people voted for the names ‘Chad’, ‘Ruger’, and ‘Zeltron’."
   ]
  },
  {
   "cell_type": "code",
   "execution_count": 2,
   "metadata": {},
   "outputs": [],
   "source": [
    "babynames = pd.Series([\n",
    "    'Jathonathon', 'Zeltron', 'Ruger', 'Phreddy', 'Ruger', 'Chad', 'Chad',\n",
    "    'Ruger', 'Ryan', 'Ruger', 'Chad', 'Ryan', 'Phreddy', 'Phreddy', 'Phreddy',\n",
    "    'Mister', 'Zeltron', 'Ryan', 'Ruger', 'Ruger', 'Jathonathon',\n",
    "    'Jathonathon', 'Ruger', 'Chad', 'Zeltron'], dtype='string')"
   ]
  },
  {
   "cell_type": "code",
   "execution_count": 3,
   "metadata": {},
   "outputs": [],
   "source": [
    "# Your code\n"
   ]
  },
  {
   "cell_type": "markdown",
   "metadata": {},
   "source": [
    "<details style=\"font-size: 16px\">\n",
    "<summary>Hint</summary>\n",
    "\n",
    "1. Use <a href=\"https://pandas.pydata.org/docs/reference/api/pandas.Series.value_counts.html\" target=\"_blank\"><code>value_counts()</code></a> method to get the count of each unique element in the Series. \n",
    "\n",
    "2. Pass the list of labels you want to retrieve within the selection brackets <code>[]</code>.\n",
    "\n",
    "</details>"
   ]
  },
  {
   "cell_type": "markdown",
   "metadata": {},
   "source": [
    "<details style=\"font-size: 16px\">\n",
    "<summary>Sample solution</summary>\n",
    "\n",
    "```python\n",
    "babynames.value_counts()[['Chad', 'Ruger', 'Zeltron']]\n",
    "```\n",
    "</details>"
   ]
  },
  {
   "cell_type": "markdown",
   "metadata": {},
   "source": [
    "---\n",
    "## Exercise 2.1. Merge two DataFrames <span style=\"font-size:10px\">[Source](https://pynative.com/python-pandas-exercise/)</span>\n",
    "\n",
    "Create two DataFrames from the dictionaries below and merge them based on the column they have in common."
   ]
  },
  {
   "cell_type": "markdown",
   "metadata": {},
   "source": [
    "Expected output:\n",
    "\n",
    "<img src=\"data:image/png;base64,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\" width=30%/>"
   ]
  },
  {
   "cell_type": "code",
   "execution_count": 4,
   "metadata": {},
   "outputs": [],
   "source": [
    "car_price = {'Company': ['Toyota', 'Honda', 'BMV', 'Audi'], 'Price': [23845, 17995, 135925 , 71400]}\n",
    "car_horsepower = {'Company': ['Toyota', 'Honda', 'BMV', 'Audi'], 'Horsepower': [141, 80, 182 , 160]}"
   ]
  },
  {
   "cell_type": "code",
   "execution_count": 5,
   "metadata": {},
   "outputs": [],
   "source": [
    "# Your code\n"
   ]
  },
  {
   "cell_type": "markdown",
   "metadata": {},
   "source": [
    "<details style=\"font-size: 16px\">\n",
    "<summary>Hint</summary>\n",
    "\n",
    "1. Construct a DataFrame from a dictionary by passing it to <a href=\"https://pandas.pydata.org/docs/reference/api/pandas.DataFrame.html\" target=\"_blank\"><code>pd.DataFrame()</code></a>.\n",
    "\n",
    "2. Use <a href=\"https://pandas.pydata.org/docs/reference/api/pandas.merge.html\" target=\"_blank\"><code>merge()</code></a> to join the DataFrames based on the column <code>Company</code>.\n",
    "\n",
    "\n",
    "</details>"
   ]
  },
  {
   "cell_type": "markdown",
   "metadata": {},
   "source": [
    "<details style=\"font-size: 16px\">\n",
    "<summary>Sample solution</summary>\n",
    "\n",
    "```python\n",
    "car_price_df = pd.DataFrame(car_price)\n",
    "\n",
    "car_horsepower_df = pd.DataFrame(car_horsepower)\n",
    "\n",
    "cars_df = pd.merge(car_price_df, car_horsepower_df, on=\"Company\")\n",
    "```\n",
    "</details>"
   ]
  },
  {
   "cell_type": "markdown",
   "metadata": {},
   "source": [
    "---\n",
    "## Exercise 2.2. Concatenate two DataFrames <span style=\"font-size:10px\">[Source](https://pynative.com/python-pandas-exercise/)</span>\n",
    "\n",
    "Create two DataFrames from the dictionaries below and concatenate them. Create a key for each DataFrame."
   ]
  },
  {
   "cell_type": "markdown",
   "metadata": {},
   "source": [
    "Expected output:\n",
    "\n",
    "<img src=\"data:image/png;base64,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\" width=25%/>"
   ]
  },
  {
   "cell_type": "code",
   "execution_count": 6,
   "metadata": {},
   "outputs": [],
   "source": [
    "german_cars = {'Company': ['Ford', 'Mercedes', 'BMV', 'Audi'], 'Price': [23845, 171995, 135925 , 71400]}\n",
    "japanese_cars = {'Company': ['Toyota', 'Honda', 'Nissan', 'Mitsubishi '], 'Price': [29995, 23600, 61500 , 58900]}"
   ]
  },
  {
   "cell_type": "code",
   "execution_count": 7,
   "metadata": {},
   "outputs": [],
   "source": [
    "# Your code\n"
   ]
  },
  {
   "cell_type": "markdown",
   "metadata": {},
   "source": [
    "<details style=\"font-size: 16px\">\n",
    "<summary>Hint</summary>\n",
    "\n",
    "1. Construct a DataFrame from a dictionary by passing it to <a href=\"https://pandas.pydata.org/docs/reference/api/pandas.DataFrame.html\" target=\"_blank\"><code>pd.DataFrame()</code></a>.\n",
    "\n",
    "2. Use <a href=\"https://pandas.pydata.org/docs/reference/api/pandas.concat.html\" target=\"_blank\"><code>concat()</code></a> to join the DataFrames.\n",
    "\n",
    "3. Assign an identifier to the result indexes by passing the list <code>[\"Germany\", \"Japan\"]</code> on the <code>keys</code> parameter in <code>concat()</code>.\n",
    "\n",
    "</details>"
   ]
  },
  {
   "cell_type": "markdown",
   "metadata": {},
   "source": [
    "<details style=\"font-size: 16px\">\n",
    "<summary>Sample solution</summary>\n",
    "\n",
    "```python\n",
    "german_cars_df = pd.DataFrame(german_cars)\n",
    "japanese_cars_df = pd.DataFrame(japanese_cars)\n",
    "\n",
    "cars_df = pd.concat([german_cars_df, japanese_cars_df], keys=[\"Germany\", \"Japan\"])\n",
    "```\n",
    "</details>"
   ]
  },
  {
   "cell_type": "markdown",
   "metadata": {},
   "source": [
    "---\n",
    "## Exercise 3. Penguins dataset\n",
    "\n",
    "Answer the following questions by exploring the dataset.\n",
    "\n",
    "Note: You need to have seaborn installed: `pip install seaborn`"
   ]
  },
  {
   "cell_type": "code",
   "execution_count": 8,
   "metadata": {},
   "outputs": [],
   "source": [
    "import seaborn as sb\n",
    "\n",
    "df_penguins = sb.load_dataset('penguins').dropna()"
   ]
  },
  {
   "cell_type": "markdown",
   "metadata": {},
   "source": [
    "#### Question 1: How many different species of penguins are in the dataset?"
   ]
  },
  {
   "cell_type": "code",
   "execution_count": 9,
   "metadata": {},
   "outputs": [],
   "source": [
    "# Your code\n"
   ]
  },
  {
   "cell_type": "markdown",
   "metadata": {},
   "source": [
    "<details style=\"font-size: 16px\">\n",
    "<summary>Hint</summary>\n",
    "\n",
    "Use the Series method <a href=\"https://pandas.pydata.org/docs/reference/api/pandas.Series.unique.html\" target=\"_blank\"><code>unique()</code></a>.\n",
    "\n",
    "</details>"
   ]
  },
  {
   "cell_type": "markdown",
   "metadata": {},
   "source": [
    "<details style=\"font-size: 16px\">\n",
    "<summary>Sample solution</summary>\n",
    "\n",
    "There are 3 unique species: 'Adelie', 'Chinstrap', 'Gentoo'.\n",
    "\n",
    "```python\n",
    "df_penguins[\"species\"].unique()\n",
    "```\n",
    "</details>"
   ]
  },
  {
   "cell_type": "markdown",
   "metadata": {},
   "source": [
    "#### Question 2: How many female penguins are from the island 'Dream'?"
   ]
  },
  {
   "cell_type": "code",
   "execution_count": 10,
   "metadata": {},
   "outputs": [],
   "source": [
    "# Your code\n"
   ]
  },
  {
   "cell_type": "markdown",
   "metadata": {},
   "source": [
    "<details style=\"font-size: 16px\">\n",
    "<summary>Hint</summary>\n",
    "\n",
    "1. Filter the dataset using one condition to get female penguins AND another condition to get penguins from island 'Dream'. Use operator <code>&</code> that represents element-wise logical AND. Don't forget to use parenthesis for each condition.\n",
    "2. You can use <a href=\"https://pandas.pydata.org/pandas-docs/stable/reference/api/pandas.DataFrame.shape.html\" target=\"_blank\"><code>shape[0]</code></a> or the Python built-in function <code>len()</code> to get the number of rows.\n",
    "</details>"
   ]
  },
  {
   "cell_type": "markdown",
   "metadata": {},
   "source": [
    "<details style=\"font-size: 16px\">\n",
    "<summary>Sample solution</summary>\n",
    "\n",
    "There are 61 female penguins in the 'Dream' island.\n",
    "\n",
    "```python\n",
    "df_penguins[(df_penguins['sex'] == 'Female') & (df_penguins['island'] == 'Dream')].shape[0]\n",
    "```\n",
    "</details>"
   ]
  },
  {
   "cell_type": "markdown",
   "metadata": {},
   "source": [
    "#### Question 3: Given the species 'Adelie', what's the percentage of penguins from the island 'Biscoe'? Round the percentage to one decimal point."
   ]
  },
  {
   "cell_type": "code",
   "execution_count": 11,
   "metadata": {},
   "outputs": [],
   "source": [
    "# Your code\n",
    " "
   ]
  },
  {
   "cell_type": "markdown",
   "metadata": {},
   "source": [
    "<details style=\"font-size: 16px\">\n",
    "<summary>Sample solution</summary>\n",
    "\n",
    "30.1% of 'Adelie' penguins are from the island 'Biscoe'.\n",
    "\n",
    "```python\n",
    "df_adelie = df_penguins[df_penguins['species'] == 'Adelie']\n",
    "df_adelie_count = len(df_adelie)\n",
    "\n",
    "df_adelie_biscoe = df_adelie[df_adelie['island'] == 'Biscoe']\n",
    "df_adelie_biscoe_count = len(df_adelie_biscoe)\n",
    "\n",
    "round(df_adelie_biscoe_count / df_adelie_count *100, 1)\n",
    "```\n",
    "</details>"
   ]
  },
  {
   "cell_type": "markdown",
   "metadata": {},
   "source": [
    "#### Question 4: What is the average flipper length ('flipper_length_mm') for each species?"
   ]
  },
  {
   "cell_type": "code",
   "execution_count": 12,
   "metadata": {},
   "outputs": [],
   "source": [
    "# Your code\n"
   ]
  },
  {
   "cell_type": "markdown",
   "metadata": {},
   "source": [
    "<details style=\"font-size: 16px\">\n",
    "<summary>Hint</summary>\n",
    "\n",
    "1. <a href=\"https://pandas.pydata.org/docs/reference/api/pandas.DataFrame.groupby.html\" target=\"_blank\"><code>Groupby</code></a> 'species'.\n",
    "2. Get <a href=\"https://pandas.pydata.org/pandas-docs/stable/reference/api/pandas.core.groupby.GroupBy.mean.html\" target=\"_blank\"><code>mean()</code></a> of 'flipper_length_mm' for each species. \n",
    "\n",
    "</details>"
   ]
  },
  {
   "cell_type": "markdown",
   "metadata": {},
   "source": [
    "<details style=\"font-size: 16px\">\n",
    "<summary>Sample solution</summary>\n",
    "\n",
    "Adelie       190.102740<br>\n",
    "Chinstrap    195.823529<br>\n",
    "Gentoo       217.235294<br>\n",
    "\n",
    "```python\n",
    "df_penguins.groupby('species')['flipper_length_mm'].mean()\n",
    "```\n",
    "</details>"
   ]
  },
  {
   "cell_type": "markdown",
   "metadata": {},
   "source": [
    "#### Question 5: Which row corresponds to the penguin with the highest body mass ('body_mass_g')? Please provide the full row."
   ]
  },
  {
   "cell_type": "code",
   "execution_count": 13,
   "metadata": {},
   "outputs": [],
   "source": [
    "# Your code\n"
   ]
  },
  {
   "cell_type": "markdown",
   "metadata": {},
   "source": [
    "<details style=\"font-size: 16px\">\n",
    "<summary>Hint</summary>\n",
    "\n",
    "1. Use the Series method <a href=\"https://pandas.pydata.org/docs/reference/api/pandas.Series.idxmax.html\" target=\"_blank\"><code>idxmax()</code></a> to return the row label of the maximum value of 'body_mass_g'.\n",
    "2. Get the row by label using the Pandas method <a href=\"https://pandas.pydata.org/docs/reference/api/pandas.DataFrame.loc.html\" target=\"_blank\"><code>loc[]</code></a>. \n",
    "\n",
    "</details>"
   ]
  },
  {
   "cell_type": "markdown",
   "metadata": {},
   "source": [
    "<details style=\"font-size: 16px\">\n",
    "<summary>Sample solution</summary>\n",
    "\n",
    "species              Gentoo<br>\n",
    "island               Biscoe<br>\n",
    "bill_length_mm         46.3<br>\n",
    "bill_depth_mm          15.8<br>\n",
    "flipper_length_mm     215.0<br>\n",
    "body_mass_g          5050.0<br>\n",
    "sex                    Male\n",
    "\n",
    "```python\n",
    "df_penguins.loc[df_penguins['body_mass_g'].idxmax()]\n",
    "```\n",
    "</details>"
   ]
  },
  {
   "cell_type": "markdown",
   "metadata": {},
   "source": [
    "<span style=\"display:none\">Rita Vale - rita.martins.vale@gmail.com</span>"
   ]
  }
 ],
 "metadata": {
  "kernelspec": {
   "display_name": "Python 3 (ipykernel)",
   "language": "python",
   "name": "python3"
  },
  "language_info": {
   "codemirror_mode": {
    "name": "ipython",
    "version": 3
   },
   "file_extension": ".py",
   "mimetype": "text/x-python",
   "name": "python",
   "nbconvert_exporter": "python",
   "pygments_lexer": "ipython3",
   "version": "3.9.0"
  },
  "vscode": {
   "interpreter": {
    "hash": "dc12122e6651160af361d9ce51affaccdc89fb27b8004b88650d93d1c4241171"
   }
  }
 },
 "nbformat": 4,
 "nbformat_minor": 2
}
