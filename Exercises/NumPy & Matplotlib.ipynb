{
 "cells": [
  {
   "cell_type": "markdown",
   "metadata": {},
   "source": [
    "# NumPy Exercises"
   ]
  },
  {
   "cell_type": "markdown",
   "metadata": {},
   "source": [
    "Check if you have NumPy installed by importing the library as below. If it throws an error, please run `pip install numpy` on a code cell to install it."
   ]
  },
  {
   "cell_type": "code",
   "execution_count": 1,
   "metadata": {},
   "outputs": [],
   "source": [
    "import numpy as np"
   ]
  },
  {
   "cell_type": "markdown",
   "metadata": {},
   "source": [
    "## Exercise 1. Zeros with one value different <span style=\"font-size:10px\">[Source](https://www.kaggle.com/code/utsav15/100-numpy-exercises)</span>\n",
    "\n",
    "Create a vector of size 10 with all zeros except the fifth value which is 1."
   ]
  },
  {
   "cell_type": "markdown",
   "metadata": {},
   "source": [
    "Expected output:\n",
    "\n",
    "<code>array([0., 0., 0., 0., 1., 0., 0., 0., 0., 0.])</code>"
   ]
  },
  {
   "cell_type": "code",
   "execution_count": 2,
   "metadata": {},
   "outputs": [],
   "source": [
    "# Your code\n"
   ]
  },
  {
   "cell_type": "markdown",
   "metadata": {},
   "source": [
    "<details style=\"font-size: 16px\">\n",
    "<summary>Hint</summary>\n",
    "\n",
    "1. Use <a href=\"https://numpy.org/doc/stable/reference/generated/numpy.zeros.html\" target=\"_blank\"><code>np.zeros</code></a> to get an array of given shape filled with zeros.\n",
    "2. To change the value of an element in the array, you need to access it by referring to its index number, and then assign a new value. Remember that, just like lists, the indexes in NumPy arrays start with 0, meaning that the first element has index 0, the second has index 1, ...\n",
    "</details>"
   ]
  },
  {
   "cell_type": "markdown",
   "metadata": {},
   "source": [
    "<details style=\"font-size: 16px\">\n",
    "<summary>Sample solution</summary>\n",
    "\n",
    "\n",
    "```python\n",
    "a = np.zeros(10)\n",
    "a[4] = 1\n",
    "a\n",
    "```\n",
    "</details>"
   ]
  },
  {
   "cell_type": "markdown",
   "metadata": {},
   "source": [
    "---\n",
    "## Exercise 2. Create a matrix <span style=\"font-size:10px\">[Source]()</span>\n",
    "\n",
    "Create a 3x3 matrix with values ranging from 0 to 8 inclusive."
   ]
  },
  {
   "cell_type": "markdown",
   "metadata": {},
   "source": [
    "Expected output:\n",
    "\n",
    "<code>array([[0, 1, 2],\n",
    "       [3, 4, 5],\n",
    "       [6, 7, 8]])</code>"
   ]
  },
  {
   "cell_type": "code",
   "execution_count": 3,
   "metadata": {},
   "outputs": [],
   "source": [
    "# Your code\n"
   ]
  },
  {
   "cell_type": "markdown",
   "metadata": {},
   "source": [
    "<details style=\"font-size: 16px\">\n",
    "<summary>Hint</summary>\n",
    "\n",
    "1. Use <a href=\"https://numpy.org/doc/stable/reference/generated/numpy.arange.html\" target=\"_blank\"><code>np.arange</code></a> to get a vector with elements from 0 to 8.\n",
    "2. Use <a href=\"https://numpy.org/doc/stable/reference/generated/numpy.reshape.html\" target=\"_blank\"><code>reshape</code></a> to transform the vector of shape (9,) to a matrix of shape (3,3).\n",
    "\n",
    "<a href=\"\" target=\"_blank\"><code></code></a> \n",
    "</details>"
   ]
  },
  {
   "cell_type": "markdown",
   "metadata": {},
   "source": [
    "<details style=\"font-size: 16px\">\n",
    "<summary>Sample solution</summary>\n",
    "\n",
    "\n",
    "```python\n",
    "a = np.arange(9).reshape(3,3)\n",
    "a\n",
    "```\n",
    "</details>"
   ]
  },
  {
   "cell_type": "markdown",
   "metadata": {},
   "source": [
    "---\n",
    "## Exercise 3. Normalise a 1D array\n",
    "Normalization of data is transforming the data to appear on the same scale across all the records. You can normalize data so the values range exactly between 0 and 1 by using the formula:\n",
    "$$\n",
    "  X_{norm} = \\frac{X - X_{min}}{X_{max} - X_{min}}\n",
    "$$\n",
    "\n",
    "After normalization, the minimum value in the data will be normalized to 0 and the maximum value is normalized to 1. All the other values will range from 0 to 1.\n",
    "\n",
    "Normalise the array <i>a</i> below."
   ]
  },
  {
   "cell_type": "code",
   "execution_count": 4,
   "metadata": {},
   "outputs": [
    {
     "data": {
      "text/plain": [
       "array([10, 20, 30, 40,  5, 15,  0, 10])"
      ]
     },
     "execution_count": 4,
     "metadata": {},
     "output_type": "execute_result"
    }
   ],
   "source": [
    "a = np.array([10, 20, 30, 40, 5, 15, 0, 10])"
   ]
  },
  {
   "cell_type": "markdown",
   "metadata": {},
   "source": [
    "Expected output:\n",
    "\n",
    "<code>array([0.25, 0.5, 0.75, 1., 0.125, 0.375, 0., 0.25])</code>"
   ]
  },
  {
   "cell_type": "code",
   "execution_count": 5,
   "metadata": {},
   "outputs": [],
   "source": [
    "# Your code\n"
   ]
  },
  {
   "cell_type": "markdown",
   "metadata": {},
   "source": [
    "<details style=\"font-size: 16px\">\n",
    "<summary>Hint</summary>\n",
    "Use the methods <a href=\"https://numpy.org/doc/stable/reference/generated/numpy.ndarray.max.html\" target=\"_blank\"><code></code>max</a> and <a href=\"https://numpy.org/doc/stable/reference/generated/numpy.ndarray.min.html\" target=\"_blank\"><code></code>min</a> to return the maximum and minimum values of the array, respectively.\n",
    "\n",
    "</details>"
   ]
  },
  {
   "cell_type": "markdown",
   "metadata": {},
   "source": [
    "<details style=\"font-size: 16px\">\n",
    "<summary>Sample solution</summary>\n",
    "\n",
    "\n",
    "```python\n",
    "a_max, a_min = a.max(), a.min()\n",
    "(a - a_min)/(a_max - a_min)\n",
    "```\n",
    "</details>"
   ]
  },
  {
   "cell_type": "markdown",
   "metadata": {},
   "source": [
    "---\n",
    "## Exercise 4. Change values in array given condition <span style=\"font-size:10px\">[Source](https://www.machinelearningplus.com/python/101-numpy-exercises-python/)</span>\n",
    "\n",
    "Replace all odd numbers in <i>a</i> with -1."
   ]
  },
  {
   "cell_type": "code",
   "execution_count": 6,
   "metadata": {},
   "outputs": [
    {
     "data": {
      "text/plain": [
       "array([0, 1, 2, 3, 4, 5, 6, 7, 8, 9])"
      ]
     },
     "execution_count": 6,
     "metadata": {},
     "output_type": "execute_result"
    }
   ],
   "source": [
    "a = np.array([0, 1, 2, 3, 4, 5, 6, 7, 8, 9])"
   ]
  },
  {
   "cell_type": "markdown",
   "metadata": {},
   "source": [
    "Expected output: \n",
    "\n",
    "<code>array([ 0, -1,  2, -1,  4, -1,  6, -1,  8, -1])</code>"
   ]
  },
  {
   "cell_type": "code",
   "execution_count": 7,
   "metadata": {},
   "outputs": [],
   "source": [
    "# Your code\n"
   ]
  },
  {
   "cell_type": "markdown",
   "metadata": {},
   "source": [
    "<details style=\"font-size: 16px\">\n",
    "<summary>Hint</summary> \n",
    "The <code>%</code> operator can be used as a shorthand for <a href=\"https://numpy.org/doc/stable/reference/generated/numpy.remainder.html\" target=\"_blank\"><code>np.remainder</code></a> on ndarrays, that returns the element-wise remainder of division.\n",
    "\n",
    "<code>a % 2</code> returns an array with the same shape as <code>a</code>, with 0 if the element is even and 1 if it is odd. \n",
    "\n",
    "<a href=\"\" target=\"_blank\"><code></code></a> \n",
    "</details>"
   ]
  },
  {
   "cell_type": "markdown",
   "metadata": {},
   "source": [
    "<details style=\"font-size: 16px\">\n",
    "<summary>Sample solution</summary>\n",
    "\n",
    "```python\n",
    "a[a % 2 == 1] = -1\n",
    "a\n",
    "```\n",
    "</details>"
   ]
  },
  {
   "cell_type": "markdown",
   "metadata": {},
   "source": [
    "---\n",
    "## Exercise 5.  Get elements from array given condition <span style=\"font-size:10px\">[Source](https://www.machinelearningplus.com/python/101-numpy-exercises-python/)</span>\n",
    "\n",
    "Get all items from <i>a</i> between 5 and 10, inclusive."
   ]
  },
  {
   "cell_type": "code",
   "execution_count": 8,
   "metadata": {},
   "outputs": [],
   "source": [
    "a = np.array([2, 6, 1, 9, 10, 3, 27])"
   ]
  },
  {
   "cell_type": "markdown",
   "metadata": {},
   "source": [
    "Expected output: \n",
    "\n",
    "<code>array([ 6,  9, 10])</code>"
   ]
  },
  {
   "cell_type": "code",
   "execution_count": 9,
   "metadata": {},
   "outputs": [],
   "source": [
    "# Your code\n"
   ]
  },
  {
   "cell_type": "markdown",
   "metadata": {},
   "source": [
    "<details style=\"font-size: 16px\">\n",
    "<summary>Hint</summary>\n",
    "Use the AND, <code>&</code>, operator to chain two conditions, <code>a >= 5</code> and <code>a <= 10</code>.\n",
    "</details>"
   ]
  },
  {
   "cell_type": "markdown",
   "metadata": {},
   "source": [
    "<details style=\"font-size: 16px\">\n",
    "<summary>Sample solution</summary>\n",
    "\n",
    "\n",
    "```python\n",
    "a[(a >= 5) & (a <= 10)]\n",
    "```\n",
    "</details>"
   ]
  },
  {
   "cell_type": "markdown",
   "metadata": {},
   "source": [
    "---\n",
    "## Exercise 6. Second largest value\n",
    "\n",
    "Given the array <i>a</i> below, get the second largest value. "
   ]
  },
  {
   "cell_type": "code",
   "execution_count": 10,
   "metadata": {},
   "outputs": [
    {
     "data": {
      "text/plain": [
       "array([4, 6, 1, 9, 7, 3, 9])"
      ]
     },
     "execution_count": 10,
     "metadata": {},
     "output_type": "execute_result"
    }
   ],
   "source": [
    "a = np.array([4, 6, 1, 9, 7, 3, 9])"
   ]
  },
  {
   "cell_type": "markdown",
   "metadata": {},
   "source": [
    "Expected output: \n",
    "\n",
    "<code>7</code>"
   ]
  },
  {
   "cell_type": "code",
   "execution_count": 11,
   "metadata": {},
   "outputs": [],
   "source": [
    "# Your code\n"
   ]
  },
  {
   "cell_type": "markdown",
   "metadata": {},
   "source": [
    "<details style=\"font-size: 16px\">\n",
    "<summary>Hint</summary>\n",
    "\n",
    "1. Create a mask to filter out the <a href=\"https://numpy.org/doc/stable/reference/generated/numpy.ndarray.max.html\" target=\"_blank\"><code></code>max</a> value of the array. \n",
    "2. Get the <a href=\"https://numpy.org/doc/stable/reference/generated/numpy.ndarray.max.html\" target=\"_blank\"><code></code>max</a> of the new array.\n",
    "\n",
    "</details>"
   ]
  },
  {
   "cell_type": "markdown",
   "metadata": {},
   "source": [
    "<details style=\"font-size: 16px\">\n",
    "<summary>Sample solution</summary>\n",
    "\n",
    "\n",
    "```python\n",
    "mask = a != a.max()\n",
    "b = a[mask]\n",
    "b.max()\n",
    "```\n",
    "</details>"
   ]
  },
  {
   "cell_type": "markdown",
   "metadata": {},
   "source": [
    "---\n",
    "## Exercise 7. Add even and odd columns <span style=\"font-size:10px\">[Source](https://bic-berkeley.github.io/psych-214-fall-2016/lab_01_exercise.html)</span>\n",
    "\n",
    "Given the array <i>a</i> below, use array slicing to get a new array composed of the even columns (0, 2) of <i>a</i>. Then, get another array that contains the odd columns (1, 3) of <i>a</i>. Finally, add these two arrays element-wise to create a new array."
   ]
  },
  {
   "cell_type": "code",
   "execution_count": 12,
   "metadata": {},
   "outputs": [
    {
     "name": "stdout",
     "output_type": "stream",
     "text": [
      "[[ 2  7 12  0]\n",
      " [ 3  9  3  4]\n",
      " [ 4  0  1  3]]\n"
     ]
    }
   ],
   "source": [
    "a = np.array([[2, 7, 12, 0], [3, 9, 3, 4], [4, 0, 1, 3]])\n",
    "print(a)"
   ]
  },
  {
   "cell_type": "markdown",
   "metadata": {},
   "source": [
    "Expected output:\n",
    "\n",
    "<code>array([[9, 12],\n",
    "       [12,  7],\n",
    "       [4,  4]])</code>"
   ]
  },
  {
   "cell_type": "code",
   "execution_count": 13,
   "metadata": {},
   "outputs": [],
   "source": [
    "# Your code\n"
   ]
  },
  {
   "cell_type": "markdown",
   "metadata": {},
   "source": [
    "<details style=\"font-size: 16px\">\n",
    "<summary>Hint</summary>\n",
    "\n",
    "1. The syntax of NumPy slicing is [<i>start</i> : <i>end</i> : <i>step</i>]. If we don't pass <i>start</i>, it's considered 0; If we don't pass <i>end</i>, it's considered length of array in that dimension; If we don't pass <i>step</i>, it's considered 1. \n",
    "    *  <code>a[::2]</code> returns the even <b>rows</b> (0,2) of a.\n",
    "    *  <code>a[:, 0]</code> returns all elements of the 1st column (index 0) of a.\n",
    "<br>\n",
    "<br>\n",
    "2. The <code>+</code> operator can be used as a shorthand for <a href=\"https://numpy.org/doc/stable/reference/generated/numpy.add.html\" target=\"_blank\"><code>np.add</code></a> on ndarrays, that adds arrays element-wise.\n",
    "\n",
    "</details>"
   ]
  },
  {
   "cell_type": "markdown",
   "metadata": {},
   "source": [
    "<details style=\"font-size: 16px\">\n",
    "<summary>Sample solution</summary>\n",
    "\n",
    "\n",
    "```python\n",
    "even_columns = a[:, ::2]\n",
    "odd_columns = a[:, 1::2]\n",
    "even_columns + odd_columns\n",
    "```\n",
    "</details>"
   ]
  },
  {
   "cell_type": "markdown",
   "metadata": {},
   "source": [
    "---\n",
    "## Exercise 8. Concatenate arrays <span style=\"font-size:10px\">[Source](https://aaltoscicomp.github.io/python-for-scicomp/numpy/#additional-exercises)</span>\n",
    "\n",
    "Create a 4x4 array of zeros, and another 4x4 array of ones. Next combine them into a single 8x4 array with the content of the zeros array on top and the ones on the bottom. Finally, do the same, but create a 4x8 array with the zeros on the left and the ones on the right."
   ]
  },
  {
   "cell_type": "code",
   "execution_count": 14,
   "metadata": {},
   "outputs": [],
   "source": [
    "# Your code\n"
   ]
  },
  {
   "cell_type": "markdown",
   "metadata": {},
   "source": [
    "<details style=\"font-size: 16px\">\n",
    "<summary>Hint</summary>\n",
    "\n",
    "1. Use <a href=\"https://numpy.org/doc/stable/reference/generated/numpy.zeros.html\" target=\"_blank\"><code>np.zeros</code></a> and <a href=\"https://numpy.org/doc/stable/reference/generated/numpy.ones.html\" target=\"_blank\"><code>np.ones</code></a> to get an array of given shape filled with zeros and ones respectively.\n",
    "2. Use <a href=\"https://numpy.org/doc/stable/reference/generated/numpy.concatenate.html\" target=\"_blank\"><code>np.concatenate</code></a> to join a sequence of arrays along an existing axis. By default, the <code>axis</code> parameter is 0. Axis 0 -> join along the rows; Axis 1 -> join along the columns.\n",
    "\n",
    "</details>"
   ]
  },
  {
   "cell_type": "markdown",
   "metadata": {},
   "source": [
    "<details style=\"font-size: 16px\">\n",
    "<summary>Sample solution</summary>\n",
    "\n",
    "\n",
    "```python\n",
    "z = np.zeros((4,4))\n",
    "o = np.ones((4,4))\n",
    "np.concatenate((z,o))\n",
    "np.concatenate((z,o),axis=1)\n",
    "```\n",
    "</details>"
   ]
  },
  {
   "cell_type": "markdown",
   "metadata": {},
   "source": [
    "---\n",
    "## Exercise 9. Swap rows in a matrix <span style=\"font-size:10px\">[Source](https://www.machinelearningplus.com/python/101-numpy-exercises-python/)</span>\n",
    "\n",
    "Using fancy indexing, swap the 1st and 2nd rows in the array <i>a</i> below."
   ]
  },
  {
   "cell_type": "code",
   "execution_count": 15,
   "metadata": {},
   "outputs": [
    {
     "data": {
      "text/plain": [
       "array([[0, 1],\n",
       "       [2, 3],\n",
       "       [4, 5]])"
      ]
     },
     "execution_count": 15,
     "metadata": {},
     "output_type": "execute_result"
    }
   ],
   "source": [
    "a = np.arange(6).reshape(3,2)\n",
    "print(a)"
   ]
  },
  {
   "cell_type": "markdown",
   "metadata": {},
   "source": [
    "Expected output:\n",
    "\n",
    "<code>array([[2, 3],\n",
    "       [0, 1],\n",
    "       [4, 5]])</code>"
   ]
  },
  {
   "cell_type": "code",
   "execution_count": 16,
   "metadata": {},
   "outputs": [],
   "source": [
    "# Your code\n"
   ]
  },
  {
   "cell_type": "markdown",
   "metadata": {},
   "source": [
    "<details style=\"font-size: 16px\">\n",
    "<summary>Hint</summary>\n",
    "<code>a[[2, 0, 1]]</code>, or <code>a[[2, 0, 1], :]</code>, returns a new array where the 1st row is the last row of <i>a</i>, then 2nd row is the first row of <i>a</i>, and the 3rd row is the middle row of <i>a</i>.\n",
    "</details>"
   ]
  },
  {
   "cell_type": "markdown",
   "metadata": {},
   "source": [
    "<details style=\"font-size: 16px\">\n",
    "<summary>Sample solution</summary>\n",
    "\n",
    "\n",
    "```python\n",
    "a[[1,0,2]]\n",
    "```\n",
    "</details>"
   ]
  },
  {
   "cell_type": "markdown",
   "metadata": {},
   "source": [
    "# Matplotlib Exercises"
   ]
  },
  {
   "cell_type": "markdown",
   "metadata": {},
   "source": [
    "Check if you have Matplotlib installed by importing the library as below. If it throws an error, please run `pip install matplotlib` on a code cell to install it."
   ]
  },
  {
   "cell_type": "code",
   "execution_count": 17,
   "metadata": {},
   "outputs": [],
   "source": [
    "import matplotlib.pyplot as plt"
   ]
  },
  {
   "cell_type": "markdown",
   "metadata": {},
   "source": [
    "## Exercise 1. Build a plot <span style=\"font-size:10px\">[Source](https://www.w3resource.com/graphics/matplotlib/basic/matplotlib-basic-exercise-7.php)</span>\n",
    "\n",
    "Build a plot with two or more lines with different styles. If you prefer, you can try and recreate the example below."
   ]
  },
  {
   "cell_type": "markdown",
   "metadata": {},
   "source": [
    "<img src=\"data:image/png;base64,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\" width=35%/>\n"
   ]
  },
  {
   "cell_type": "code",
   "execution_count": 18,
   "metadata": {},
   "outputs": [],
   "source": [
    "# 1st line points\n",
    "x1 = [10,20,30]\n",
    "y1 = [20,40,10]\n",
    "# 2nd line points\n",
    "x2 = [10,20,30]\n",
    "y2 = [40,10,30]"
   ]
  },
  {
   "cell_type": "code",
   "execution_count": 19,
   "metadata": {},
   "outputs": [],
   "source": [
    "# Your code\n"
   ]
  },
  {
   "cell_type": "markdown",
   "metadata": {},
   "source": [
    "<details style=\"font-size: 16px\">\n",
    "<summary>Sample solution</summary>\n",
    "\n",
    "\n",
    "```python\n",
    "# Plot lines\n",
    "plt.plot(x1, y1, color='blue', linewidth = 3,  linestyle='dotted', label = '1st Line')\n",
    "plt.plot(x2, y2, color='red', linewidth = 5, linestyle='dashed', label = '2nd Line')\n",
    "\n",
    "# Set a title \n",
    "plt.title(\"Plot with two or more lines with different styles\")\n",
    "\n",
    "# Set the x axis label\n",
    "plt.xlabel('X axis')\n",
    "# Set the y axis label\n",
    "plt.ylabel('Y axis')\n",
    "\n",
    "# Show a legend on the plot\n",
    "plt.legend()\n",
    "\n",
    "# Show the plot\n",
    "plt.show()\n",
    "```\n",
    "</details>"
   ]
  },
  {
   "cell_type": "markdown",
   "metadata": {},
   "source": [
    "## Exercise 2. Build a scatter plot <span style=\"font-size:10px\">[Source](https://aaltoscicomp.github.io/python-for-scicomp/data-visualization/#exercise-matplotlib)</span>\n",
    "\n",
    "Build the scatter plot below: \n",
    "1. Plot the first set of values (x, y) using the color #E69F00. \n",
    "2. Create another set of values (x, y2) where y2 has the values of y multiplied by 2, and plot these values using the color #009E73."
   ]
  },
  {
   "cell_type": "markdown",
   "metadata": {},
   "source": [
    "<img src=\"data:image/png;base64,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\" width=35%/>"
   ]
  },
  {
   "cell_type": "code",
   "execution_count": 20,
   "metadata": {},
   "outputs": [],
   "source": [
    "x = [10.0, 8.0, 13.0, 9.0, 11.0, 14.0, 6.0, 4.0, 12.0, 7.0, 5.0]\n",
    "y = [9.14, 8.14, 8.74, 8.77, 9.26, 8.10, 6.13, 3.10, 9.13, 7.26, 4.74]"
   ]
  },
  {
   "cell_type": "code",
   "execution_count": 2,
   "metadata": {},
   "outputs": [],
   "source": [
    "# Your code\n"
   ]
  },
  {
   "cell_type": "markdown",
   "metadata": {},
   "source": [
    "<details style=\"font-size: 16px\">\n",
    "<summary>Sample solution</summary>\n",
    "\n",
    "\n",
    "```python\n",
    "import numpy as np\n",
    "\n",
    "# Multiply all elements of y by 2\n",
    "y2 = np.array(y) * 2 # You can also use list comprehension: [val*2 for val in y]\n",
    "\n",
    "plt.scatter(x=x, y=y, c=\"#E69F00\", label=\"Data\")\n",
    "plt.scatter(x=x, y=np.array(y)*2, c=\"#009E73\", label=\"Data scaled by 2\")\n",
    "\n",
    "plt.legend()\n",
    "\n",
    "plt.show()\n",
    "```\n",
    "</details>"
   ]
  },
  {
   "cell_type": "markdown",
   "metadata": {},
   "source": [
    "<span style=\"display:none\">Rita Vale - rita.martins.vale@gmail.com</span>"
   ]
  }
 ],
 "metadata": {
  "kernelspec": {
   "display_name": "Python 3.9.0 64-bit",
   "language": "python",
   "name": "python3"
  },
  "language_info": {
   "codemirror_mode": {
    "name": "ipython",
    "version": 3
   },
   "file_extension": ".py",
   "mimetype": "text/x-python",
   "name": "python",
   "nbconvert_exporter": "python",
   "pygments_lexer": "ipython3",
   "version": "3.9.0"
  },
  "orig_nbformat": 4,
  "vscode": {
   "interpreter": {
    "hash": "dc12122e6651160af361d9ce51affaccdc89fb27b8004b88650d93d1c4241171"
   }
  }
 },
 "nbformat": 4,
 "nbformat_minor": 2
}
