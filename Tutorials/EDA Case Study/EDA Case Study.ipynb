{
 "cells": [
  {
   "cell_type": "markdown",
   "metadata": {},
   "source": [
    "# <b>Case Study Overview</b>\n",
    "Lending Club is a consumer finance company specialized in lending various types of loans. Upon receiving a loan application, the company has to make a decision for loan approval based on the applicant’s profile. \n",
    "\n",
    "Applicants who don't repay the loan, i.e., defaulted on the loan, cause the largest amount of loss to the lenders. If one is able to identify these risky loan applicants, then such loans can be reduced thereby cutting down the amount of financial loss."
   ]
  },
  {
   "cell_type": "markdown",
   "metadata": {},
   "source": [
    "# <b>Objective</b>\n",
    "The company wants to understand the driving factors behind loan default, i.e. they want to identify the variables which are strong indicators of default. \n",
    "They can then use those variables, at the time of loan application, for approval/rejection of the loan."
   ]
  },
  {
   "cell_type": "markdown",
   "metadata": {},
   "source": [
    "---\n",
    "# Step 1. Import the necessary libraries\n",
    "Before loading the dataset, you will need to first import all the relevant libraries. If you don’t have them installed already, you can do so by using the pip install command.<br>\n",
    "Import pandas, numpy and matplolib."
   ]
  },
  {
   "cell_type": "code",
   "execution_count": 1,
   "metadata": {},
   "outputs": [],
   "source": [
    "# Your code\n"
   ]
  },
  {
   "cell_type": "markdown",
   "metadata": {},
   "source": [
    "<details style=\"font-size: 16px\">\n",
    "<summary>Sample solution</summary>\n",
    "\n",
    "\n",
    "```python\n",
    "import pandas as pd\n",
    "import numpy as np\n",
    "import matplotlib.pyplot as plt\n",
    "```\n",
    "</details>"
   ]
  },
  {
   "cell_type": "markdown",
   "metadata": {},
   "source": [
    "# Step 2. Loading the data\n",
    "You can now load the dataset into pandas  using the `read_csv()` function. This converts the CSV file into a Pandas DataFrame.<br>\n",
    "You can set `dtype` parameter to 'O' to specify that all columns have data type <i>object</i>. This is not necessary but will ensure there are no columns with mixed types and will suppress a DtypeWarning."
   ]
  },
  {
   "cell_type": "code",
   "execution_count": 2,
   "metadata": {},
   "outputs": [],
   "source": [
    "# Your code\n"
   ]
  },
  {
   "cell_type": "markdown",
   "metadata": {},
   "source": [
    "<details style=\"font-size: 16px\">\n",
    "<summary>Sample solution</summary>\n",
    "\n",
    "\n",
    "```python\n",
    "loan_df = pd.read_csv(\"loan.csv\", dtype='O')\n",
    "```\n",
    "</details>"
   ]
  },
  {
   "cell_type": "markdown",
   "metadata": {},
   "source": [
    "# Step 3. Viewing the data\n",
    "\n",
    "The dataset contains information about past issued loans and whether they were 'defaulted' or not. \n",
    "\n",
    "You can check the \"Data_Dictionary.xlsx\" file to see the description of each column."
   ]
  },
  {
   "cell_type": "markdown",
   "metadata": {},
   "source": [
    "## See the first 10 entries"
   ]
  },
  {
   "cell_type": "code",
   "execution_count": 3,
   "metadata": {},
   "outputs": [],
   "source": [
    "# Your code\n"
   ]
  },
  {
   "cell_type": "markdown",
   "metadata": {},
   "source": [
    "<details style=\"font-size: 16px\">\n",
    "<summary>Sample solution</summary>\n",
    "\n",
    "\n",
    "```python\n",
    "loan_df.head(10)\n",
    "```\n",
    "</details>"
   ]
  },
  {
   "cell_type": "markdown",
   "metadata": {},
   "source": [
    "## How many loans/rows are in the data? How many features/columns are in the data?"
   ]
  },
  {
   "cell_type": "code",
   "execution_count": 4,
   "metadata": {},
   "outputs": [],
   "source": [
    "# Your code\n"
   ]
  },
  {
   "cell_type": "markdown",
   "metadata": {},
   "source": [
    "<details style=\"font-size: 16px\">\n",
    "<summary>Sample solution</summary>\n",
    "\n",
    "There are 39717 rows and 111 columns.\n",
    "\n",
    "```python\n",
    "loan_df.shape\n",
    "```\n",
    "</details>"
   ]
  },
  {
   "cell_type": "markdown",
   "metadata": {},
   "source": [
    "## Does the data have any members with more than one loan application?"
   ]
  },
  {
   "cell_type": "code",
   "execution_count": 5,
   "metadata": {},
   "outputs": [],
   "source": [
    "# Your code\n"
   ]
  },
  {
   "cell_type": "markdown",
   "metadata": {},
   "source": [
    "<details style=\"font-size: 16px\">\n",
    "<summary>Hint</summary>\n",
    "\n",
    "- Use `member_id` column\n",
    "- Check if there is <a href=\"https://pandas.pydata.org/pandas-docs/stable/reference/api/pandas.Series.any.html\"><code>any</code></a> <a href=\"https://pandas.pydata.org/pandas-docs/stable/reference/api/pandas.Series.duplicated.html\"><code>duplicated</code></a> rows for that column.\n",
    "</details>"
   ]
  },
  {
   "cell_type": "markdown",
   "metadata": {},
   "source": [
    "<details style=\"font-size: 16px\">\n",
    "<summary>Sample solution</summary>\n",
    "\n",
    "No members in the data are taking more than one loan.\n",
    "\n",
    "```python\n",
    "loan_df[\"member_id\"].duplicated().any()\n",
    "```\n",
    "</details>"
   ]
  },
  {
   "cell_type": "markdown",
   "metadata": {},
   "source": [
    "# Step 4. Preparing the data\n",
    "\n",
    "We need to do some cleaning and feature transformation to get the data ready for the main EDA task."
   ]
  },
  {
   "cell_type": "markdown",
   "metadata": {},
   "source": [
    "# Step 4.1. Remove Irrelevant Columns    \n",
    "\n",
    "There are broadly three types of features: \n",
    "- Customer profile (employment details, income etc.)\n",
    "- Loan characteristics (amount of loan, interest rate, purpose of loan etc.)\n",
    "- Customer behaviour variables (those which are generated after the loan is approved such as delinquent 2 years, revolving balance, next payment date etc.).\n",
    "\n",
    "The customer behaviour variables are not available at the time of loan application, and thus they cannot be used as predictors for credit approval."
   ]
  },
  {
   "cell_type": "markdown",
   "metadata": {},
   "source": [
    "## Remove customer behaviour columns"
   ]
  },
  {
   "cell_type": "code",
   "execution_count": 6,
   "metadata": {},
   "outputs": [],
   "source": [
    "behaviour_columns = ['last_pymnt_d', 'last_pymnt_amnt', 'last_credit_pull_d', 'delinq_2yrs', \n",
    "                     'earliest_cr_line', 'inq_last_6mths', 'open_acc', 'pub_rec',\n",
    "                    'total_pymnt', 'total_pymnt_inv', 'total_rec_prncp', 'total_rec_int', 'total_rec_late_fee',\n",
    "                    'revol_bal', 'revol_util', 'total_acc', 'out_prncp', 'out_prncp_inv',\n",
    "                    'recoveries', 'collection_recovery_fee']"
   ]
  },
  {
   "cell_type": "code",
   "execution_count": 7,
   "metadata": {},
   "outputs": [],
   "source": [
    "# Your code\n"
   ]
  },
  {
   "cell_type": "markdown",
   "metadata": {},
   "source": [
    "<details style=\"font-size: 16px\">\n",
    "<summary>Hint</summary>\n",
    "\n",
    "- Use <a href=\"https://pandas.pydata.org/pandas-docs/stable/reference/api/pandas.DataFrame.drop.html\" target=\"_blank\"><code>drop()</code></a> method\n",
    "- Don't forget to reassign the DataFrame or use inplace = True\n",
    "</details>"
   ]
  },
  {
   "cell_type": "markdown",
   "metadata": {},
   "source": [
    "<details style=\"font-size: 16px\">\n",
    "<summary>Sample solution</summary>\n",
    "\n",
    "```python\n",
    "loan_df = loan_df.drop(behaviour_columns, axis=1)\n",
    "```\n",
    "\n",
    "Note: 20 columns dropped (111 -> 91)\n",
    "</details>"
   ]
  },
  {
   "cell_type": "markdown",
   "metadata": {},
   "source": [
    "## Remove columns with constant value\n",
    "\n",
    "Remove columns that, for every row, have the same constant value, since they will not give us any insights."
   ]
  },
  {
   "cell_type": "code",
   "execution_count": 8,
   "metadata": {},
   "outputs": [],
   "source": [
    "# Your code\n"
   ]
  },
  {
   "cell_type": "markdown",
   "metadata": {},
   "source": [
    "<details style=\"font-size: 16px\">\n",
    "<summary>Hint</summary>\n",
    "\n",
    "- For each column, the number of unique values (see <a href=\"https://pandas.pydata.org/docs/reference/api/pandas.DataFrame.nunique.html\"><code>nunique()</code></a>) needs to be greater than 1\n",
    "- Use <a href=\"https://pandas.pydata.org/docs/reference/api/pandas.DataFrame.loc.html\"><code>loc[]</code></a> to maintain all rows but only keep the columns that satisfy the condition\n",
    "- Don't forget to reassign the DataFrame\n",
    "\n",
    "</details>"
   ]
  },
  {
   "cell_type": "markdown",
   "metadata": {},
   "source": [
    "<details style=\"font-size: 16px\">\n",
    "<summary>Sample solution</summary>\n",
    "\n",
    "```python\n",
    "loan_df = loan_df.loc[:, loan_df.nunique() > 1]\n",
    "```\n",
    "\n",
    "Note: 63 columns dropped (91 -> 28)\n",
    "</details>"
   ]
  },
  {
   "cell_type": "markdown",
   "metadata": {},
   "source": [
    "## Remove columns with distinct values for all rows\n",
    "\n",
    "Remove all columns that have different values for each row, since they will not give us any insights."
   ]
  },
  {
   "cell_type": "code",
   "execution_count": 9,
   "metadata": {},
   "outputs": [],
   "source": [
    "# Your code\n"
   ]
  },
  {
   "cell_type": "markdown",
   "metadata": {},
   "source": [
    "<details style=\"font-size: 16px\">\n",
    "<summary>Hint</summary>\n",
    "\n",
    "- For each column, the number of unique values (see <a href=\"https://pandas.pydata.org/docs/reference/api/pandas.DataFrame.nunique.html\"><code>nunique()</code></a>) needs to be less than the total number of rows\n",
    "- Use <a href=\"https://pandas.pydata.org/docs/reference/api/pandas.DataFrame.loc.html\"><code>loc[]</code></a> to maintain all rows but only keep columns that satisfy the condition.\n",
    "- Don't forget to reassign the DataFrame\n",
    "\n",
    "</details>"
   ]
  },
  {
   "cell_type": "markdown",
   "metadata": {},
   "source": [
    "<details style=\"font-size: 16px\">\n",
    "<summary>Sample solution</summary>\n",
    "\n",
    "```python\n",
    "loan_df = loan_df.loc[:, loan_df.nunique() < loan_df.shape[0]]\n",
    "```\n",
    "\n",
    "Note: 3 columns dropped (28 -> 25)\n",
    "</details>"
   ]
  },
  {
   "cell_type": "markdown",
   "metadata": {},
   "source": [
    "# Step 4.2. Handle Missing values"
   ]
  },
  {
   "cell_type": "markdown",
   "metadata": {},
   "source": [
    "## Calculate the percentage of missing values for each column"
   ]
  },
  {
   "cell_type": "code",
   "execution_count": 10,
   "metadata": {},
   "outputs": [],
   "source": [
    "# Your code\n"
   ]
  },
  {
   "cell_type": "markdown",
   "metadata": {},
   "source": [
    "<details style=\"font-size: 16px\">\n",
    "<summary>Hint</summary>\n",
    "\n",
    "- Use <a href=\"https://pandas.pydata.org/pandas-docs/stable/reference/api/pandas.DataFrame.isnull.html\"><code>isnull()</code></a> and <a href=\"https://pandas.pydata.org/pandas-docs/stable/reference/api/pandas.DataFrame.sum.html\"><code>sum()</code></a> to get the frequency of missing columns for each column\n",
    "- Divide by total number of rows to get the relative frequency \n",
    "\n",
    "</details>"
   ]
  },
  {
   "cell_type": "markdown",
   "metadata": {},
   "source": [
    "<details style=\"font-size: 16px\">\n",
    "<summary>Sample solution</summary>\n",
    "\n",
    "\n",
    "```python\n",
    "loan_df.isnull().sum() / loan_df.shape[0] *100\n",
    "```\n",
    "</details>"
   ]
  },
  {
   "cell_type": "markdown",
   "metadata": {},
   "source": [
    "## Remove columns that have more than 50% missing values"
   ]
  },
  {
   "cell_type": "code",
   "execution_count": 11,
   "metadata": {},
   "outputs": [],
   "source": [
    "# Your code\n"
   ]
  },
  {
   "cell_type": "markdown",
   "metadata": {},
   "source": [
    "<details style=\"font-size: 16px\">\n",
    "<summary>Hint</summary>\n",
    "\n",
    "- Create a condition based on the answer from the previous exercise\n",
    "- Use <a href=\"https://pandas.pydata.org/docs/reference/api/pandas.DataFrame.loc.html\"><code>loc[]</code></a> to maintain all rows but only keep the columns that satisfy the condition\n",
    "- Don't forget to reassign the DataFrame\n",
    "\n",
    "</details>"
   ]
  },
  {
   "cell_type": "markdown",
   "metadata": {},
   "source": [
    "<details style=\"font-size: 16px\">\n",
    "<summary>Sample solution</summary>\n",
    "\n",
    "```python\n",
    "null_perc = loan_df.isnull().sum() / loan_df.shape[0] *100\n",
    "loan_df = loan_df.loc[:, null_perc <= 50]\n",
    "```\n",
    "\n",
    "Note: 3 columns dropped (25 -> 22)\n",
    "</details>"
   ]
  },
  {
   "cell_type": "markdown",
   "metadata": {},
   "source": [
    "We have 4 columns left with missing values:\n",
    "1. \"title\" with only 11 nulls\n",
    "2. \"pub_rec_bankruptcies\" with 1.75% of nulls\n",
    "3. \"emp_title\" with 6.19% of nulls\n",
    "4. \"emp_length\" with 2.71% of nulls"
   ]
  },
  {
   "cell_type": "markdown",
   "metadata": {},
   "source": [
    "## Remove <i>title</i> and <i>desc</i> columns\n",
    "We can remove <i>title</i> and <i>desc</i> columns since <i>purpose</i> is a more useful column with the reason provided by the customer for the loan request. "
   ]
  },
  {
   "cell_type": "code",
   "execution_count": 12,
   "metadata": {},
   "outputs": [],
   "source": [
    "# Your code\n"
   ]
  },
  {
   "cell_type": "markdown",
   "metadata": {},
   "source": [
    "<details style=\"font-size: 16px\">\n",
    "<summary>Hint</summary>\n",
    "\n",
    "- Use <a href=\"https://pandas.pydata.org/pandas-docs/stable/reference/api/pandas.DataFrame.drop.html\" target=\"_blank\"><code>drop()</code></a> method\n",
    "- Don't forget to reassign the DataFrame or use inplace = True\n",
    "</details>"
   ]
  },
  {
   "cell_type": "markdown",
   "metadata": {},
   "source": [
    "<details style=\"font-size: 16px\">\n",
    "<summary>Sample solution</summary>\n",
    "\n",
    "```python\n",
    "loan_df = loan_df.drop([\"title\", \"desc\"], axis=1)\n",
    "```\n",
    "\n",
    "</details>"
   ]
  },
  {
   "cell_type": "markdown",
   "metadata": {},
   "source": [
    "## Remove rows where either <i>pub_rec_bankruptcies</i> or <i>emp_length</i> have missing values\n",
    "\n",
    "Since both columns have a low percentage of missing values and we don't want to introduce unnecessary bias, it is safer to remove all rows with null values for each of these columns."
   ]
  },
  {
   "cell_type": "code",
   "execution_count": 13,
   "metadata": {},
   "outputs": [],
   "source": [
    "# Your code\n"
   ]
  },
  {
   "cell_type": "markdown",
   "metadata": {},
   "source": [
    "<details style=\"font-size: 16px\">\n",
    "<summary>Hint</summary>\n",
    "\n",
    "- Use <a href=\"https://pandas.pydata.org/pandas-docs/stable/reference/api/pandas.DataFrame.dropna.html\" target=\"_blank\"><code>dropna()</code></a> method\n",
    "- Don't forget to reassign the DataFrame or use inplace = True\n",
    "</details>"
   ]
  },
  {
   "cell_type": "markdown",
   "metadata": {},
   "source": [
    "<details style=\"font-size: 16px\">\n",
    "<summary>Sample solution</summary>\n",
    "\n",
    "```python\n",
    "loan_df = loan_df.dropna(subset=['pub_rec_bankruptcies', 'emp_length'])\n",
    "```\n",
    "\n",
    "</details>"
   ]
  },
  {
   "cell_type": "markdown",
   "metadata": {},
   "source": [
    "## How many unique values does column <i>emp_title</i> have?\n",
    "\n",
    "Do you think this column is meaningful for our analysis? If not, remove the column; otherwise, what approach would you use to deal with the missing values?"
   ]
  },
  {
   "cell_type": "code",
   "execution_count": 14,
   "metadata": {},
   "outputs": [],
   "source": [
    "# Your code\n"
   ]
  },
  {
   "cell_type": "markdown",
   "metadata": {},
   "source": [
    "<details style=\"font-size: 16px\">\n",
    "<summary>Sample solution</summary>\n",
    "\n",
    "There are 28299 unique values in column \"emp_title\", which is almost 75% of the total number of records.\n",
    "\n",
    "```python\n",
    "loan_df['emp_title'].nunique() #/ loan_df.shape[0] *100\n",
    "```\n",
    "\n",
    "We can assume this column is not meaningful for our analysis and remove the column:\n",
    "```python\n",
    "loan_df = loan_df.drop(\"emp_title\", axis=1)\n",
    "```\n",
    "\n",
    "</details>"
   ]
  },
  {
   "cell_type": "markdown",
   "metadata": {},
   "source": [
    "# Step 4.3. Remove Duplicates"
   ]
  },
  {
   "cell_type": "markdown",
   "metadata": {},
   "source": [
    "## Does the data have duplicated rows?\n",
    "\n",
    "If so, remove all duplicates."
   ]
  },
  {
   "cell_type": "code",
   "execution_count": 15,
   "metadata": {},
   "outputs": [],
   "source": [
    "# Your code\n"
   ]
  },
  {
   "cell_type": "markdown",
   "metadata": {},
   "source": [
    "<details style=\"font-size: 16px\">\n",
    "<summary>Hint</summary>\n",
    "\n",
    "Use <a href=\"https://pandas.pydata.org/pandas-docs/stable/reference/api/pandas.DataFrame.duplicated.html\"><code>duplicated()</code></a> and <a href=\"https://pandas.pydata.org/pandas-docs/stable/reference/api/pandas.DataFrame.any.html\"><code>any()</code></a>. \n",
    "</details>"
   ]
  },
  {
   "cell_type": "markdown",
   "metadata": {},
   "source": [
    "<details style=\"font-size: 16px\">\n",
    "<summary>Sample solution</summary>\n",
    "There are no duplicate records in our data.\n",
    "\n",
    "```python\n",
    "loan_df.duplicated().any()\n",
    "```\n",
    "\n",
    "</details>"
   ]
  },
  {
   "cell_type": "markdown",
   "metadata": {},
   "source": [
    "# Step 4.4. Change data formats and transform text data"
   ]
  },
  {
   "cell_type": "markdown",
   "metadata": {},
   "source": [
    "### Remove text data from <i>term</i> column and convert to int datatype \n",
    "\n",
    "Remove the word \"months\" and change the datatype"
   ]
  },
  {
   "cell_type": "code",
   "execution_count": 16,
   "metadata": {},
   "outputs": [],
   "source": [
    "# Your code\n"
   ]
  },
  {
   "cell_type": "markdown",
   "metadata": {},
   "source": [
    "<details style=\"font-size: 16px\">\n",
    "<summary>Hint</summary>\n",
    "\n",
    "- Use <a href=\"https://pandas.pydata.org/pandas-docs/stable/reference/api/pandas.Series.str.split.html\"><code>str.split()</code></a> and <a href=\"https://pandas.pydata.org/docs/reference/api/pandas.Series.str.get.html\"><code>str.get()</code></a> to extract only the number from <i>term</i>\n",
    "- To convert to integer use <a href=\"https://pandas.pydata.org/pandas-docs/stable/reference/api/pandas.Series.astype.html\"><code>astype()</code></a>\n",
    "- Don't forget to reassign the column Series\n",
    "\n",
    "</details>"
   ]
  },
  {
   "cell_type": "markdown",
   "metadata": {},
   "source": [
    "<details style=\"font-size: 16px\">\n",
    "<summary>Sample solution</summary>\n",
    "\n",
    "```python\n",
    "loan_df['term'] = loan_df['term'].str.split().str.get(0).astype(int)\n",
    "\n",
    "#or\n",
    "loan_df['term'].str.replace(\" months\", \"\").astype(int)\n",
    "```\n",
    "\n",
    "</details>"
   ]
  },
  {
   "cell_type": "markdown",
   "metadata": {},
   "source": [
    "### Remove \"%\" symbol from <i>int_rate</i> and change the datatype to float"
   ]
  },
  {
   "cell_type": "code",
   "execution_count": 17,
   "metadata": {},
   "outputs": [],
   "source": [
    "# Your code\n"
   ]
  },
  {
   "cell_type": "markdown",
   "metadata": {},
   "source": [
    "<details style=\"font-size: 16px\">\n",
    "<summary>Hint</summary>\n",
    "\n",
    "- Use <a href=\"https://pandas.pydata.org/pandas-docs/stable/reference/api/pandas.Series.str.rstrip.html\"><code>str.rstrip()</code></a> to strip specified characters from each string in the Series from right side\n",
    "- To convert to float use <a href=\"https://pandas.pydata.org/pandas-docs/stable/reference/api/pandas.Series.astype.html\"><code>astype()</code></a>\n",
    "- Don't forget to reassign the column Series\n",
    "\n",
    "</details>"
   ]
  },
  {
   "cell_type": "markdown",
   "metadata": {},
   "source": [
    "<details style=\"font-size: 16px\">\n",
    "<summary>Sample solution</summary>\n",
    "\n",
    "\n",
    "```python\n",
    "loan_df['int_rate'] = loan_df['int_rate'].str.rstrip('%').astype(float)\n",
    "\n",
    "#or\n",
    "loan_df[\"term\"].str.replace(\"%\",\"\").astype(float)\n",
    "```\n",
    "\n",
    "</details>"
   ]
  },
  {
   "cell_type": "markdown",
   "metadata": {},
   "source": [
    "### Convert <i>emp_length</i> values to numeric\n",
    "\n",
    "- \"< 1 year\" should be replaced by 0\n",
    "- \"10+ years\" replaced by 10\n",
    "- The rest should be replaced by their magnitude - e.g., \"6 years\" to 6"
   ]
  },
  {
   "cell_type": "code",
   "execution_count": 18,
   "metadata": {},
   "outputs": [],
   "source": [
    "# Your code\n"
   ]
  },
  {
   "cell_type": "markdown",
   "metadata": {},
   "source": [
    "<details style=\"font-size: 16px\">\n",
    "<summary>Hint</summary>\n",
    "\n",
    "- You can use <a href=\"https://pandas.pydata.org/docs/reference/api/pandas.Series.replace.html\" target=\"_blank\"><code>replace()</code></a> by passing a dict where each key is an existing value and each value is the respective replacement value.<br>\n",
    "Alternatively, you can make small changes one at a time using chained <a href=\"https://pandas.pydata.org/docs/reference/api/pandas.Series.str.replace.html\" target=\"_blank\"><code>str.replace()</code></a>.\n",
    "- Don't forget to reassign the column Series\n",
    "\n",
    "</details>"
   ]
  },
  {
   "cell_type": "markdown",
   "metadata": {},
   "source": [
    "<details style=\"font-size: 16px\">\n",
    "<summary>Sample solution</summary>\n",
    "\n",
    "\n",
    "```python\n",
    "replace_dict = { \n",
    "    '< 1 year': 0,\n",
    "    '1 year': 1,\n",
    "    '2 years': 2,\n",
    "    '3 years': 3,\n",
    "    '4 years': 4,\n",
    "    '5 years': 5,\n",
    "    '6 years': 6,\n",
    "    '7 years': 7,\n",
    "    '8 years': 8,\n",
    "    '9 years': 9,\n",
    "    '10+ years': 10,\n",
    "}\n",
    "loan_df['emp_length'] = loan_df['emp_length'].replace(replace_dict)\n",
    "```\n",
    "\n",
    "</details>"
   ]
  },
  {
   "cell_type": "markdown",
   "metadata": {},
   "source": [
    "### Create bins for <i>int_rate</i> and <i>annual_inc</i>\n",
    "\n",
    "To go from a continuous feature, like <i>int_rate</i>, to a categorical feature, we can group its values into different bins. \n",
    "\n",
    "We can use <a href=\"https://pandas.pydata.org/pandas-docs/stable/reference/api/pandas.cut.html\" target=\"_blank\"><code>pd.cut()</code></a> to perform this computation as below:"
   ]
  },
  {
   "cell_type": "code",
   "execution_count": 19,
   "metadata": {},
   "outputs": [],
   "source": [
    "### Uncomment and run this code cell ###\n",
    "# bins = [0, 7.5, 10, 12.5, 15, np.inf]\n",
    "# labels = ['0-7.5', '7.5-10', '10-12.5', '12.5-15', '15+']\n",
    "\n",
    "# loan_df['int_rate_range'] = pd.cut(loan_df['int_rate'], bins=bins, labels=labels)\n",
    "\n",
    "# loan_df[['int_rate', 'int_rate_range']].head()"
   ]
  },
  {
   "cell_type": "markdown",
   "metadata": {},
   "source": [
    "For the column <i>annual_inc</i>, first make sure its data type is float. Then, bin values into discrete intervals as follows:\n",
    "- People earning less than USD 40,000\n",
    "- People earning between USD 40,000 to USD 70,000\n",
    "- People earning between USD 70,000 to USD 100,000\n",
    "- People earning more than USD 100,000\n",
    "\n",
    "Assign the result to a new column <i>annual_inc_range</i>."
   ]
  },
  {
   "cell_type": "code",
   "execution_count": 20,
   "metadata": {},
   "outputs": [],
   "source": [
    "# Your code\n"
   ]
  },
  {
   "cell_type": "markdown",
   "metadata": {},
   "source": [
    "<details style=\"font-size: 16px\">\n",
    "<summary>Sample solution</summary>\n",
    "\n",
    "\n",
    "```python\n",
    "loan_df['annual_inc'] = loan_df['annual_inc'].astype(float)\n",
    "\n",
    "bins = np.array([0, 40, 70, 100, np.inf]) * 1000 \n",
    "labels = ['$0-$40K', '$40K-$70K', '$70K-$100K', '$100K+']\n",
    "\n",
    "loan_df['annual_inc_range'] = pd.cut(loan_df['annual_inc'], bins, labels=labels)\n",
    "```\n",
    "\n",
    "</details>"
   ]
  },
  {
   "cell_type": "markdown",
   "metadata": {},
   "source": [
    "# Step 4.5. Target variable processing"
   ]
  },
  {
   "cell_type": "markdown",
   "metadata": {},
   "source": [
    "The feature that tells us if a loan was paid or defaulted is <i>loan_status</i>.\n",
    "\n",
    "We want to compare this variable across the other variables and identify the ones that affect it the most."
   ]
  },
  {
   "cell_type": "markdown",
   "metadata": {},
   "source": [
    "### What is the datatype and unique values of the column <i>loan_status</i>?"
   ]
  },
  {
   "cell_type": "code",
   "execution_count": 21,
   "metadata": {},
   "outputs": [],
   "source": [
    "# Your code\n"
   ]
  },
  {
   "cell_type": "markdown",
   "metadata": {},
   "source": [
    "<details style=\"font-size: 16px\">\n",
    "<summary>Sample solution</summary>\n",
    "\n",
    "\n",
    "```python\n",
    "loan_df['loan_status'].unique()\n",
    "\n",
    "loan_df['loan_status'].dtype\n",
    "```\n",
    "\n",
    "</details>"
   ]
  },
  {
   "cell_type": "markdown",
   "metadata": {},
   "source": [
    "The three categories for <i>loan_status</i> are: \n",
    "- Fully paid: Applicant has fully paid the loan.\n",
    "- Current: Applicant is in the process of paying the instalments, i.e. the tenure of the loan is not yet completed. \n",
    "- Charged-off: Applicant has not paid the instalments in due time for a long period of time, i.e. they have <b>defaulted</b> on the loan"
   ]
  },
  {
   "cell_type": "markdown",
   "metadata": {},
   "source": [
    "### Ignore \"Current\" value in <i>loan_status</i> column\n",
    "\n",
    "Filter out loans with \"Current\" <i>loan_status</i>, since these are not fully paid nor have defaulted."
   ]
  },
  {
   "cell_type": "code",
   "execution_count": 22,
   "metadata": {},
   "outputs": [],
   "source": [
    "# Your code\n"
   ]
  },
  {
   "cell_type": "markdown",
   "metadata": {},
   "source": [
    "<details style=\"font-size: 16px\">\n",
    "<summary>Sample solution</summary>\n",
    "\n",
    "\n",
    "```python\n",
    "loan_df = loan_df[loan_df['loan_status'] != 'Current']\n",
    "```\n",
    "\n",
    "</details>"
   ]
  },
  {
   "cell_type": "markdown",
   "metadata": {},
   "source": [
    "### Convert <i>loan_status</i> to binary\n",
    "\n",
    "<i>loan_status</i> is a categorical variable which is not suitable for numerical computations. \n",
    "We need to convert it to binary so we can calculate the average default rate and be able to compare it against the independent variables.\n",
    "\n",
    "Change \"Charged Off\" to True/1 and \"Fully Paid\" to False/0. Make sure the data type is either bool or int."
   ]
  },
  {
   "cell_type": "code",
   "execution_count": 23,
   "metadata": {},
   "outputs": [],
   "source": [
    "# Your code\n"
   ]
  },
  {
   "cell_type": "markdown",
   "metadata": {},
   "source": [
    "<details style=\"font-size: 16px\">\n",
    "<summary>Hint</summary>\n",
    "\n",
    "What does <code>loan_df['loan_status'] == \"Charged Off\"</code> return?\n",
    "\n",
    "</details>"
   ]
  },
  {
   "cell_type": "markdown",
   "metadata": {},
   "source": [
    "<details style=\"font-size: 16px\">\n",
    "<summary>Sample solution</summary>\n",
    "\n",
    "\n",
    "```python\n",
    "loan_df['loan_status'] = loan_df['loan_status'] == \"Charged Off\"\n",
    "```\n",
    "\n",
    "</details>"
   ]
  },
  {
   "cell_type": "markdown",
   "metadata": {},
   "source": [
    "# Step 5. EDA\n",
    "Now that we have high-quality data, we can perform Exploratory Data Analysis. Effective EDA lets us uncover valuable insights by finding patterns in our data, visualizing relationships between its variables, and building intuition about what we're working with. "
   ]
  },
  {
   "cell_type": "markdown",
   "metadata": {},
   "source": [
    "## What is the interest rate distribution?\n",
    "\n",
    "Create a [histogram](https://pandas.pydata.org/docs/reference/api/pandas.DataFrame.hist.html) for the numerical column <i>int_rate</i>. \n",
    "\n",
    "Give an approximate range where most interest rate values fall on."
   ]
  },
  {
   "cell_type": "code",
   "execution_count": 24,
   "metadata": {},
   "outputs": [],
   "source": [
    "# Your code\n"
   ]
  },
  {
   "cell_type": "markdown",
   "metadata": {},
   "source": [
    "<details style=\"font-size: 16px\">\n",
    "<summary>Sample solution</summary>\n",
    "Interest rate values are more concentrated between 10% and 15%.\n",
    "\n",
    "```python\n",
    "loan_df['int_rate'].hist() \n",
    "```\n",
    "</details>"
   ]
  },
  {
   "cell_type": "markdown",
   "metadata": {},
   "source": [
    "## Target variable analysis"
   ]
  },
  {
   "cell_type": "markdown",
   "metadata": {},
   "source": [
    "### What's the distribution of `loan_status`?\n",
    "\n",
    "Use [value_counts()](https://pandas.pydata.org/docs/reference/api/pandas.Series.value_counts.html) to get the total row count for both defaulted loans and paid loans, and plot the resulting Series using a [pie plot](https://pandas.pydata.org/docs/reference/api/pandas.DataFrame.plot.pie.html).\n",
    "\n",
    "Set the plot's title as \"Loan Status Distribution\".\n",
    "\n",
    "Tip: Set the parameter `autopct` on `plot.pie()` to `'%1.1f%%'` to show the percentages on the plot."
   ]
  },
  {
   "cell_type": "code",
   "execution_count": 25,
   "metadata": {},
   "outputs": [],
   "source": [
    "# Your code\n"
   ]
  },
  {
   "cell_type": "markdown",
   "metadata": {},
   "source": [
    "<details style=\"font-size: 16px\">\n",
    "<summary>Sample solution</summary>\n",
    "\n",
    "```python\n",
    "pie_plot = loan_df['loan_status'].value_counts().plot.pie(\n",
    "    title=\"Loan Status Distribution\", \n",
    "    autopct='%1.1f%%', \n",
    "    labels=['Paid', 'Defaulted'], \n",
    "    explode=(0, 0.1))\n",
    "plt.ylabel('') \n",
    "plt.show()     \n",
    "```\n",
    "</details>"
   ]
  },
  {
   "cell_type": "markdown",
   "metadata": {},
   "source": [
    "Note: We can see that the dataset is not balanced with only 14.3% of defaulted loans."
   ]
  },
  {
   "cell_type": "markdown",
   "metadata": {},
   "source": [
    "The strategy to identify which features affect loan default the most, is to compare the average default rates across the various independent variables.\n",
    "\n",
    "The average default rate is\n",
    "$$ \\text{Average Default Rate} = \\frac{\\text{Number of defaulted loans}}{\\text{Total number of loans}} $$\n",
    "\n",
    "This can be computed as \n",
    "```python\n",
    "(loan_df['loan_status'] == True).sum() / loan_df.shape[0]\n",
    "```\n",
    "which is the same as\n",
    "```python\n",
    "loan_df['loan_status'].sum() / loan_df.shape[0]\n",
    "```\n",
    "which is simply\n",
    "```python\n",
    "loan_df['loan_status'].mean()\n",
    "```"
   ]
  },
  {
   "cell_type": "markdown",
   "metadata": {},
   "source": [
    "### What is the Average Default Rate by <i>term</i>?\n",
    "\n",
    "Knowing that Average Default Rate can be computed as <code>loan_df['loan_status'].mean()</code>, calculate this metric for each group of values in column <i>term</i>."
   ]
  },
  {
   "cell_type": "code",
   "execution_count": 26,
   "metadata": {},
   "outputs": [],
   "source": [
    "# Your code\n"
   ]
  },
  {
   "cell_type": "markdown",
   "metadata": {},
   "source": [
    "<details style=\"font-size: 16px\">\n",
    "<summary>Hint</summary>\n",
    "\n",
    "Use <a href=\"https://pandas.pydata.org/pandas-docs/stable/reference/api/pandas.DataFrame.groupby.html\"><code>groupby()</code></a> method. \n",
    "\n",
    "</details>"
   ]
  },
  {
   "cell_type": "markdown",
   "metadata": {},
   "source": [
    "<details style=\"font-size: 16px\">\n",
    "<summary>Sample solution</summary>\n",
    "\n",
    "```python\n",
    "loan_df.groupby('term')['loan_status'].mean()\n",
    "```\n",
    "</details>"
   ]
  },
  {
   "cell_type": "markdown",
   "metadata": {},
   "source": [
    "This tell us that loans with term 60 months have a higher default rate, i.e., the default rate is increasing with respect to <i>term</i>, hence the chances of a loan getting defaulted is higher for 60 months than 36 months.\n",
    "\n",
    "Thus, <i>term</i> seems like a good indicator of loan default."
   ]
  },
  {
   "cell_type": "markdown",
   "metadata": {},
   "source": [
    "### Create function to calculate the Average Default Rate by any column\n",
    "\n",
    "Generalise the code above by creating a function called <code>get_default_rate()</code> that takes any categorical column from the dataset and returns the Average Default Rate for each column value.\n",
    "\n",
    "This will be useful to see the relationship between an independent column and the target variable."
   ]
  },
  {
   "cell_type": "code",
   "execution_count": 27,
   "metadata": {},
   "outputs": [],
   "source": [
    "# Your code\n"
   ]
  },
  {
   "cell_type": "markdown",
   "metadata": {},
   "source": [
    "<details style=\"font-size: 16px\">\n",
    "<summary>Sample solution</summary>\n",
    "\n",
    "```python\n",
    "def get_default_rate(column):\n",
    "    return loan_df.groupby(column)['loan_status'].mean()\n",
    "\n",
    "# Example\n",
    "get_default_rate('term')\n",
    "```\n",
    "</details>"
   ]
  },
  {
   "cell_type": "markdown",
   "metadata": {},
   "source": [
    "## Grade analysis\n",
    "\n",
    "Loan grading is a classification system that involves assigning a quality score to a loan based on risk factors. 'A' grade loans represent the lowest risk while 'G' grade loans are the riskiest."
   ]
  },
  {
   "cell_type": "markdown",
   "metadata": {},
   "source": [
    "### *grade* vs *int_rate*\n",
    "\n",
    "Given *grade*'s definition, we can speculate that riskier grades (higher grades) will have higher interest rates. Let's confirm this by plotting *grade* against <i>int_rate</i>.\n",
    "\n",
    "For each grade, calculate the average of *int_rate* and plot the result using [`plot.bar()`](https://pandas.pydata.org/docs/reference/api/pandas.DataFrame.plot.bar.html). "
   ]
  },
  {
   "cell_type": "code",
   "execution_count": 28,
   "metadata": {},
   "outputs": [],
   "source": [
    "# Your code\n"
   ]
  },
  {
   "cell_type": "markdown",
   "metadata": {},
   "source": [
    "<details style=\"font-size: 16px\">\n",
    "<summary>Hint</summary>\n",
    "\n",
    "Use <a href=\"https://pandas.pydata.org/pandas-docs/stable/reference/api/pandas.DataFrame.groupby.html\"><code>groupby()</code></a> method. \n",
    "\n",
    "</details>"
   ]
  },
  {
   "cell_type": "markdown",
   "metadata": {},
   "source": [
    "<details style=\"font-size: 16px\">\n",
    "<summary>Sample solution</summary>\n",
    "We can verify that the higher the grade, the higher is the average interest rate.\n",
    "\n",
    "```python\n",
    "loan_df.groupby('grade').int_rate.mean().plot.bar()\n",
    "```\n",
    "</details>"
   ]
  },
  {
   "cell_type": "markdown",
   "metadata": {},
   "source": [
    "### What is the *grade*'s distribution?\n",
    "\n",
    "What grades appear the most and the least in our data? "
   ]
  },
  {
   "cell_type": "code",
   "execution_count": 29,
   "metadata": {},
   "outputs": [],
   "source": [
    "# Your code\n"
   ]
  },
  {
   "cell_type": "markdown",
   "metadata": {},
   "source": [
    "<details style=\"font-size: 16px\">\n",
    "<summary>Hint</summary>\n",
    "\n",
    "Use <a href=\"https://pandas.pydata.org/docs/reference/api/pandas.Series.value_counts.html\"><code>value_counts()</code></a> method. \n",
    "\n",
    "</details>"
   ]
  },
  {
   "cell_type": "markdown",
   "metadata": {},
   "source": [
    "<details style=\"font-size: 16px\">\n",
    "<summary>Sample solution</summary>\n",
    "Grades 'A' and 'B' have the highest number of loans. This makes sense since they are associated with lower risk loans. \n",
    "\n",
    "The company is already lending only a small amount of loans to people classified in higher risk grades, 'F' and 'G'. \n",
    "\n",
    "```python\n",
    "loan_df.grade.value_counts().plot.bar()\n",
    "```\n",
    "</details>"
   ]
  },
  {
   "cell_type": "markdown",
   "metadata": {},
   "source": [
    "### Is *grade* beneficial to predict loan default?\n",
    "\n",
    "Hypothesis: Loans with higher grade have higher default rate.\n",
    "\n",
    "Using the previously created function `get_default_rate()`, build a bar plot where the xaxis shows each grade and the yaxis shows the average default rate for each grade.\n",
    "\n",
    "Set the yaxis label to \"Average Default Rate\". \n",
    "\n",
    "The plot's title should be \"Loan Default Rate by grade\"."
   ]
  },
  {
   "cell_type": "code",
   "execution_count": 30,
   "metadata": {},
   "outputs": [],
   "source": [
    "# Your code\n"
   ]
  },
  {
   "cell_type": "markdown",
   "metadata": {},
   "source": [
    "<details style=\"font-size: 16px\">\n",
    "<summary>Sample solution</summary>\n",
    "There's an increasing trend observed for higher grades; Grade G with the highest default rate.\n",
    "\n",
    "Answer: Grade does seem to affect the default rate since the higher the grade, the higher the percentage of defaulted loans.\n",
    "\n",
    "```python\n",
    "get_default_rate('grade').plot(kind='bar')\n",
    "plt.title(\"Loan Default Rate by grade\")\n",
    "plt.xlabel(\"grade\")\n",
    "plt.ylabel(\"Average Default Rate\")\n",
    "plt.show()\n",
    "```\n",
    "</details>"
   ]
  },
  {
   "cell_type": "markdown",
   "metadata": {},
   "source": [
    "## Create function to calculate the Average Default Rate by any column\n",
    "\n",
    "Generalise the code above by creating a function called `plot_bar` that plots the Average Default Rate for each grouping of any categorical column passed as a parameter. \n",
    "\n",
    "The title should be \"Loan Default Rate by \\[column\\]\", where \\[column\\] is the specific column you are plotting."
   ]
  },
  {
   "cell_type": "code",
   "execution_count": 31,
   "metadata": {},
   "outputs": [],
   "source": [
    "# Your code\n"
   ]
  },
  {
   "cell_type": "markdown",
   "metadata": {},
   "source": [
    "<details style=\"font-size: 16px\">\n",
    "<summary>Sample solution</summary>\n",
    "\n",
    "```python\n",
    "def plot_bar(column):\n",
    "    get_default_rate(column).plot(kind='bar')\n",
    "    plt.title(\"Loan Default Rate by \" + column)\n",
    "    plt.xlabel(column)\n",
    "    plt.ylabel(\"Default Rate\")\n",
    "    plt.show()\n",
    "```\n",
    "</details>"
   ]
  },
  {
   "cell_type": "markdown",
   "metadata": {},
   "source": [
    "### Is *int_rate_range* beneficial to predict loan default?\n",
    "\n",
    "Hypothesis: The higher the interest rate, the higher the default rate. "
   ]
  },
  {
   "cell_type": "code",
   "execution_count": 32,
   "metadata": {},
   "outputs": [],
   "source": [
    "# Your code\n"
   ]
  },
  {
   "cell_type": "markdown",
   "metadata": {},
   "source": [
    "<details style=\"font-size: 16px\">\n",
    "<summary>Sample solution</summary>\n",
    "Answer: Interest rate seems a strong predictor of loan default, since we can see that default rate is increasing with the interest rate values.\n",
    "\n",
    "```python\n",
    "plot_bar('int_rate_range')\n",
    "```\n",
    "</details>"
   ]
  },
  {
   "cell_type": "markdown",
   "metadata": {},
   "source": [
    "### Is *annual_inc_range* beneficial to predict loan default?\n",
    "\n",
    "Hypothesis: The lower the annual income, the higher the default rate. "
   ]
  },
  {
   "cell_type": "code",
   "execution_count": 33,
   "metadata": {},
   "outputs": [],
   "source": [
    "# Your code\n"
   ]
  },
  {
   "cell_type": "markdown",
   "metadata": {},
   "source": [
    "<details style=\"font-size: 16px\">\n",
    "<summary>Sample solution</summary>\n",
    "Low income earners tend to default more. \n",
    "\n",
    "Answer: Annual income seems to affect the default rate, since we can observe a downward trend, which suggests that people with lower income are more likely to default.\n",
    "\n",
    "```python\n",
    "plot_bar('annual_inc_range')\n",
    "```\n",
    "</details>"
   ]
  },
  {
   "cell_type": "markdown",
   "metadata": {},
   "source": [
    "### Is *emp_length* beneficial to predict loan default?"
   ]
  },
  {
   "cell_type": "code",
   "execution_count": 34,
   "metadata": {},
   "outputs": [],
   "source": [
    "# Your code\n"
   ]
  },
  {
   "cell_type": "markdown",
   "metadata": {},
   "source": [
    "<details style=\"font-size: 16px\">\n",
    "<summary>Sample solution</summary>\n",
    "We can see that default rate is more or less constant, thus loan default does not seem to depend on Employment Length.\n",
    "\n",
    "```python\n",
    "plot_bar('emp_length')\n",
    "```\n",
    "</details>"
   ]
  },
  {
   "cell_type": "markdown",
   "metadata": {},
   "source": [
    "# BONUS: Explore the dataset further"
   ]
  },
  {
   "cell_type": "markdown",
   "metadata": {},
   "source": [
    "Suggestion - Investigate *purpose* column:\n",
    "- What are the different purpose reasons?\n",
    "- What is the main purpose for loan defaults?\n",
    "- Is *purpose* beneficial to predict loan default?"
   ]
  },
  {
   "cell_type": "code",
   "execution_count": 35,
   "metadata": {},
   "outputs": [],
   "source": [
    "# Your code\n"
   ]
  },
  {
   "cell_type": "markdown",
   "metadata": {},
   "source": [
    "<span style=\"display:none\">Rita Vale - rita.martins.vale@gmail.com</span>"
   ]
  }
 ],
 "metadata": {
  "kernelspec": {
   "display_name": "Python 3.9.0 64-bit",
   "language": "python",
   "name": "python3"
  },
  "language_info": {
   "codemirror_mode": {
    "name": "ipython",
    "version": 3
   },
   "file_extension": ".py",
   "mimetype": "text/x-python",
   "name": "python",
   "nbconvert_exporter": "python",
   "pygments_lexer": "ipython3",
   "version": "3.9.0"
  },
  "orig_nbformat": 4,
  "vscode": {
   "interpreter": {
    "hash": "dc12122e6651160af361d9ce51affaccdc89fb27b8004b88650d93d1c4241171"
   }
  }
 },
 "nbformat": 4,
 "nbformat_minor": 2
}
